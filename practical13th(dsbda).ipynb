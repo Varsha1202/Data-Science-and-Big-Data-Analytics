{
 "cells": [
  {
   "cell_type": "code",
   "execution_count": 1,
   "id": "99480953",
   "metadata": {},
   "outputs": [],
   "source": [
    "import pandas as pd"
   ]
  },
  {
   "cell_type": "code",
   "execution_count": 4,
   "id": "797d315c",
   "metadata": {},
   "outputs": [],
   "source": [
    "df = pd.read_csv(r'C:\\Users\\admin\\Desktop\\LabAssignment\\13th\\sample_weather.txt')"
   ]
  },
  {
   "cell_type": "code",
   "execution_count": 7,
   "id": "feb87e67",
   "metadata": {
    "scrolled": true
   },
   "outputs": [],
   "source": [
    "data = {\n",
    "    'month': [1, 2, 3, 4, 5, 6],\n",
    "    'day': [1, 2, 3, 4, 5, 6],\n",
    "    'year': [2021, 2021, 2021, 2021, 2021, 2021],\n",
    "    'temperature': [10, 15, 20, 25, 30, 35],\n",
    "    'dew_point': [8, 12, 16, 20, 24, 28],\n",
    "    'wind_speed': [5, 7, 9, 11, 13, 15]\n",
    "}\n",
    "\n",
    "df = pd.DataFrame(data)\n",
    "\n",
    "df.columns = ['month', 'day', 'year', 'temperature', 'dew_point', 'wind_speed']\n",
    "\n",
    "avg_temp = df['temperature'].mean()\n",
    "avg_dew_point = df['dew_point'].mean()\n",
    "avg_wind_speed = df['wind_speed'].mean()"
   ]
  },
  {
   "cell_type": "code",
   "execution_count": 8,
   "id": "6dbd64b4",
   "metadata": {},
   "outputs": [
    {
     "name": "stdout",
     "output_type": "stream",
     "text": [
      "Average temperature: 22.5\n"
     ]
    }
   ],
   "source": [
    "print(f\"Average temperature: {avg_temp}\")"
   ]
  },
  {
   "cell_type": "code",
   "execution_count": 9,
   "id": "10e42dd1",
   "metadata": {},
   "outputs": [
    {
     "name": "stdout",
     "output_type": "stream",
     "text": [
      "Average dew point: 18.0\n"
     ]
    }
   ],
   "source": [
    "print(f\"Average dew point: {avg_dew_point}\")"
   ]
  },
  {
   "cell_type": "code",
   "execution_count": 10,
   "id": "e6463acc",
   "metadata": {},
   "outputs": [
    {
     "name": "stdout",
     "output_type": "stream",
     "text": [
      "Average wind speed: 10.0\n"
     ]
    }
   ],
   "source": [
    "print(f\"Average wind speed: {avg_wind_speed}\")"
   ]
  },
  {
   "cell_type": "code",
   "execution_count": null,
   "id": "f1540e48",
   "metadata": {},
   "outputs": [],
   "source": []
  }
 ],
 "metadata": {
  "kernelspec": {
   "display_name": "Python 3 (ipykernel)",
   "language": "python",
   "name": "python3"
  },
  "language_info": {
   "codemirror_mode": {
    "name": "ipython",
    "version": 3
   },
   "file_extension": ".py",
   "mimetype": "text/x-python",
   "name": "python",
   "nbconvert_exporter": "python",
   "pygments_lexer": "ipython3",
   "version": "3.10.9"
  }
 },
 "nbformat": 4,
 "nbformat_minor": 5
}
